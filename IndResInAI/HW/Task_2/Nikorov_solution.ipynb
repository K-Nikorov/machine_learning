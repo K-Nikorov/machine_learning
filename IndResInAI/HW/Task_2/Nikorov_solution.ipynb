{
 "cells": [
  {
   "cell_type": "markdown",
   "id": "3fff0a92",
   "metadata": {
    "cellId": "zv2610ozct9m3myskzlire",
    "collapsed": true,
    "execution_id": "729a9845-e2a2-48cd-a8ff-f805d1b30c61",
    "jupyter": {
     "outputs_hidden": true
    }
   },
   "source": [
    "%pip install -r requirements.txt\n",
    "\n",
    "with open('./requirements.txt', 'r') as f:\n",
    "    reqs = f.read()\n",
    "\n",
    "with open('./pip_requirements.txt', 'w') as f:\n",
    "    for line in reqs.split('\\n'):\n",
    "        line = line.strip()\n",
    "        dot_index = line.rfind('.')\n",
    "        space_index = line.find(' ')\n",
    "        start_space_index = space_index\n",
    "        while line[space_index] == ' ':\n",
    "            space_index += 1\n",
    "        start_version_index = space_index\n",
    "        end_version_index = line.find(' ', start_version_index)\n",
    "#         print('___'+line[0:start_space_index]+'=='+line[start_version_index: end_version_index]+'___')\n",
    "        splitted = line[0:start_space_index] + '==' + line[start_version_index: end_version_index]\n",
    "#         print(splitted)\n",
    "        f.write(splitted + '\\n')\n",
    "    \n",
    "\n",
    "%pip install -r pip_requirements.txt"
   ]
  },
  {
   "cell_type": "code",
   "execution_count": 1,
   "id": "6e680e3d",
   "metadata": {
    "cellId": "4t0h6l2gv7acbr5t1vxvca"
   },
   "outputs": [
    {
     "name": "stdout",
     "output_type": "stream",
     "text": [
      "Defaulting to user installation because normal site-packages is not writeable\n",
      "Collecting dalle2-pytorch==1.2.1\n",
      "  Downloading dalle2_pytorch-1.2.1-py3-none-any.whl (1.4 MB)\n",
      "\u001b[2K     \u001b[38;2;114;156;31m━━━━━━━━━━━━━━━━━━━━━━━━━━━━━━━━━━━━━━━━\u001b[0m \u001b[32m1.4/1.4 MB\u001b[0m \u001b[31m7.4 MB/s\u001b[0m eta \u001b[36m0:00:00\u001b[0mm eta \u001b[36m0:00:01\u001b[0m0:01\u001b[0m:01\u001b[0m\n",
      "\u001b[?25hCollecting pydantic==1.10.6\n",
      "  Downloading pydantic-1.10.6-cp310-cp310-manylinux_2_17_x86_64.manylinux2014_x86_64.whl (3.1 MB)\n",
      "\u001b[2K     \u001b[38;2;114;156;31m━━━━━━━━━━━━━━━━━━━━━━━━━━━━━━━━━━━━━━━━\u001b[0m \u001b[32m3.1/3.1 MB\u001b[0m \u001b[31m30.6 MB/s\u001b[0m eta \u001b[36m0:00:00\u001b[0m MB/s\u001b[0m eta \u001b[36m0:00:01\u001b[0m:01\u001b[0m\n",
      "\u001b[?25hRequirement already satisfied: torchvision in /home/knikorov/.local/lib/python3.10/site-packages (from dalle2-pytorch==1.2.1) (0.15.2+cpu)\n",
      "Requirement already satisfied: click in /usr/lib/python3/dist-packages (from dalle2-pytorch==1.2.1) (8.0.3)\n",
      "Collecting embedding-reader\n",
      "  Downloading embedding_reader-1.5.1-py3-none-any.whl (18 kB)\n",
      "Requirement already satisfied: pillow in /usr/lib/python3/dist-packages (from dalle2-pytorch==1.2.1) (9.0.1)\n",
      "Collecting accelerate\n",
      "  Downloading accelerate-0.24.1-py3-none-any.whl (261 kB)\n",
      "\u001b[2K     \u001b[38;2;114;156;31m━━━━━━━━━━━━━━━━━━━━━━━━━━━━━━━━━━━━━━\u001b[0m \u001b[32m261.4/261.4 KB\u001b[0m \u001b[31m28.3 MB/s\u001b[0m eta \u001b[36m0:00:00\u001b[0m\n",
      "\u001b[?25hCollecting clip-anytorch\n",
      "  Downloading clip_anytorch-2.5.2-py3-none-any.whl (1.4 MB)\n",
      "\u001b[2K     \u001b[38;2;114;156;31m━━━━━━━━━━━━━━━━━━━━━━━━━━━━━━━━━━━━━━━━\u001b[0m \u001b[32m1.4/1.4 MB\u001b[0m \u001b[31m36.3 MB/s\u001b[0m eta \u001b[36m0:00:00\u001b[0mm eta \u001b[36m0:00:01\u001b[0m\n",
      "\u001b[?25hCollecting pytorch-warmup\n",
      "  Downloading pytorch_warmup-0.1.1-py3-none-any.whl (6.6 kB)\n",
      "Collecting x-clip>=0.4.4\n",
      "  Downloading x_clip-0.14.4-py3-none-any.whl (1.4 MB)\n",
      "\u001b[2K     \u001b[38;2;114;156;31m━━━━━━━━━━━━━━━━━━━━━━━━━━━━━━━━━━━━━━━━\u001b[0m \u001b[32m1.4/1.4 MB\u001b[0m \u001b[31m34.7 MB/s\u001b[0m eta \u001b[36m0:00:00\u001b[0mm eta \u001b[36m0:00:01\u001b[0m\n",
      "\u001b[?25hCollecting ema-pytorch>=0.0.7\n",
      "  Downloading ema_pytorch-0.3.1-py3-none-any.whl (4.8 kB)\n",
      "Collecting vector-quantize-pytorch\n",
      "  Downloading vector_quantize_pytorch-1.11.7-py3-none-any.whl (24 kB)\n",
      "Collecting torchmetrics[image]>=0.8.0\n",
      "  Downloading torchmetrics-1.2.0-py3-none-any.whl (805 kB)\n",
      "\u001b[2K     \u001b[38;2;114;156;31m━━━━━━━━━━━━━━━━━━━━━━━━━━━━━━━━━━━━━━\u001b[0m \u001b[32m805.2/805.2 KB\u001b[0m \u001b[31m46.3 MB/s\u001b[0m eta \u001b[36m0:00:00\u001b[0m\n",
      "\u001b[?25hRequirement already satisfied: packaging in /home/knikorov/.local/lib/python3.10/site-packages (from dalle2-pytorch==1.2.1) (23.1)\n",
      "Requirement already satisfied: fsspec>=2022.1.0 in /home/knikorov/.local/lib/python3.10/site-packages (from dalle2-pytorch==1.2.1) (2023.9.2)\n",
      "Requirement already satisfied: torch>=1.10 in /home/knikorov/.local/lib/python3.10/site-packages (from dalle2-pytorch==1.2.1) (2.0.1+cpu)\n",
      "Collecting rotary-embedding-torch\n",
      "  Downloading rotary_embedding_torch-0.3.5-py3-none-any.whl (5.1 kB)\n",
      "Collecting resize-right>=0.0.2\n",
      "  Downloading resize_right-0.0.2-py3-none-any.whl (8.9 kB)\n",
      "Requirement already satisfied: numpy in /home/knikorov/.local/lib/python3.10/site-packages (from dalle2-pytorch==1.2.1) (1.24.1)\n",
      "Requirement already satisfied: tqdm in /home/knikorov/.local/lib/python3.10/site-packages (from dalle2-pytorch==1.2.1) (4.66.1)\n",
      "Collecting coca-pytorch>=0.0.5\n",
      "  Downloading CoCa_pytorch-0.1.0-py3-none-any.whl (7.0 kB)\n",
      "Collecting einops>=0.4\n",
      "  Downloading einops-0.7.0-py3-none-any.whl (44 kB)\n",
      "\u001b[2K     \u001b[38;2;114;156;31m━━━━━━━━━━━━━━━━━━━━━━━━━━━━━━━━━━━━━━━━\u001b[0m \u001b[32m44.6/44.6 KB\u001b[0m \u001b[31m5.8 MB/s\u001b[0m eta \u001b[36m0:00:00\u001b[0m\n",
      "\u001b[?25hCollecting webdataset>=0.2.5\n",
      "  Downloading webdataset-0.2.79-py3-none-any.whl (65 kB)\n",
      "\u001b[2K     \u001b[38;2;114;156;31m━━━━━━━━━━━━━━━━━━━━━━━━━━━━━━━━━━━━━━━━\u001b[0m \u001b[32m65.4/65.4 KB\u001b[0m \u001b[31m8.5 MB/s\u001b[0m eta \u001b[36m0:00:00\u001b[0m\n",
      "\u001b[?25hCollecting kornia>=0.5.4\n",
      "  Downloading kornia-0.7.0-py2.py3-none-any.whl (705 kB)\n",
      "\u001b[2K     \u001b[38;2;114;156;31m━━━━━━━━━━━━━━━━━━━━━━━━━━━━━━━━━━━━━━\u001b[0m \u001b[32m705.7/705.7 KB\u001b[0m \u001b[31m39.8 MB/s\u001b[0m eta \u001b[36m0:00:00\u001b[0m\n",
      "\u001b[?25hCollecting einops-exts>=0.0.3\n",
      "  Downloading einops_exts-0.0.4-py3-none-any.whl (3.9 kB)\n",
      "Requirement already satisfied: typing-extensions>=4.2.0 in /home/knikorov/.local/lib/python3.10/site-packages (from pydantic==1.10.6) (4.8.0)\n",
      "Collecting beartype\n",
      "  Downloading beartype-0.16.4-py3-none-any.whl (819 kB)\n",
      "\u001b[2K     \u001b[38;2;114;156;31m━━━━━━━━━━━━━━━━━━━━━━━━━━━━━━━━━━━━━━\u001b[0m \u001b[32m819.1/819.1 KB\u001b[0m \u001b[31m41.0 MB/s\u001b[0m eta \u001b[36m0:00:00\u001b[0m\n",
      "\u001b[?25hRequirement already satisfied: filelock in /home/knikorov/.local/lib/python3.10/site-packages (from torch>=1.10->dalle2-pytorch==1.2.1) (3.9.0)\n",
      "Requirement already satisfied: sympy in /home/knikorov/.local/lib/python3.10/site-packages (from torch>=1.10->dalle2-pytorch==1.2.1) (1.11.1)\n",
      "Requirement already satisfied: jinja2 in /usr/lib/python3/dist-packages (from torch>=1.10->dalle2-pytorch==1.2.1) (3.0.3)\n",
      "Requirement already satisfied: networkx in /home/knikorov/.local/lib/python3.10/site-packages (from torch>=1.10->dalle2-pytorch==1.2.1) (3.0)\n",
      "Collecting lightning-utilities>=0.8.0\n",
      "  Downloading lightning_utilities-0.10.0-py3-none-any.whl (24 kB)\n",
      "Collecting torch-fidelity<=0.4.0\n",
      "  Downloading torch_fidelity-0.3.0-py3-none-any.whl (37 kB)\n",
      "Requirement already satisfied: scipy>1.0.0 in /home/knikorov/.local/lib/python3.10/site-packages (from torchmetrics[image]>=0.8.0->dalle2-pytorch==1.2.1) (1.11.2)\n",
      "Collecting lpips<=0.1.4\n",
      "  Downloading lpips-0.1.4-py3-none-any.whl (53 kB)\n",
      "\u001b[2K     \u001b[38;2;114;156;31m━━━━━━━━━━━━━━━━━━━━━━━━━━━━━━━━━━━━━━━━\u001b[0m \u001b[32m53.8/53.8 KB\u001b[0m \u001b[31m7.0 MB/s\u001b[0m eta \u001b[36m0:00:00\u001b[0m\n",
      "\u001b[?25hRequirement already satisfied: requests in /home/knikorov/.local/lib/python3.10/site-packages (from torchvision->dalle2-pytorch==1.2.1) (2.31.0)\n",
      "Collecting braceexpand\n",
      "  Downloading braceexpand-0.1.7-py2.py3-none-any.whl (5.9 kB)\n",
      "Requirement already satisfied: pyyaml in /usr/lib/python3/dist-packages (from webdataset>=0.2.5->dalle2-pytorch==1.2.1) (5.4.1)\n",
      "Requirement already satisfied: regex in /home/knikorov/.local/lib/python3.10/site-packages (from x-clip>=0.4.4->dalle2-pytorch==1.2.1) (2023.10.3)\n",
      "Collecting ftfy\n",
      "  Downloading ftfy-6.1.3-py3-none-any.whl (53 kB)\n",
      "\u001b[2K     \u001b[38;2;114;156;31m━━━━━━━━━━━━━━━━━━━━━━━━━━━━━━━━━━━━━━━━\u001b[0m \u001b[32m53.4/53.4 KB\u001b[0m \u001b[31m7.7 MB/s\u001b[0m eta \u001b[36m0:00:00\u001b[0m\n",
      "\u001b[?25hRequirement already satisfied: psutil in /usr/lib/python3/dist-packages (from accelerate->dalle2-pytorch==1.2.1) (5.9.0)\n",
      "Requirement already satisfied: huggingface-hub in /home/knikorov/.local/lib/python3.10/site-packages (from accelerate->dalle2-pytorch==1.2.1) (0.17.3)\n",
      "Collecting pandas<2,>=1.1.5\n",
      "  Downloading pandas-1.5.3-cp310-cp310-manylinux_2_17_x86_64.manylinux2014_x86_64.whl (12.1 MB)\n",
      "\u001b[2K     \u001b[38;2;114;156;31m━━━━━━━━━━━━━━━━━━━━━━━━━━━━━━━━━━━━━━━━\u001b[0m \u001b[32m12.1/12.1 MB\u001b[0m \u001b[31m38.0 MB/s\u001b[0m eta \u001b[36m0:00:00\u001b[0mm eta \u001b[36m0:00:01\u001b[0m[36m0:00:01\u001b[0m\n",
      "\u001b[?25hCollecting pyarrow<13,>=6.0.1\n",
      "  Downloading pyarrow-12.0.1-cp310-cp310-manylinux_2_17_x86_64.manylinux2014_x86_64.whl (38.9 MB)\n",
      "\u001b[2K     \u001b[38;2;114;156;31m━━━━━━━━━━━━━━━━━━━━━━━━━━━━━━━━━━━━━━━━\u001b[0m \u001b[32m38.9/38.9 MB\u001b[0m \u001b[31m25.5 MB/s\u001b[0m eta \u001b[36m0:00:00\u001b[0mm eta \u001b[36m0:00:01\u001b[0m[36m0:00:01\u001b[0m\n",
      "\u001b[?25hRequirement already satisfied: setuptools in /usr/lib/python3/dist-packages (from lightning-utilities>=0.8.0->torchmetrics[image]>=0.8.0->dalle2-pytorch==1.2.1) (59.6.0)\n",
      "Requirement already satisfied: pytz>=2020.1 in /usr/lib/python3/dist-packages (from pandas<2,>=1.1.5->embedding-reader->dalle2-pytorch==1.2.1) (2022.1)\n",
      "Requirement already satisfied: python-dateutil>=2.8.1 in /home/knikorov/.local/lib/python3.10/site-packages (from pandas<2,>=1.1.5->embedding-reader->dalle2-pytorch==1.2.1) (2.8.2)\n",
      "Collecting wcwidth<0.3.0,>=0.2.12\n",
      "  Downloading wcwidth-0.2.12-py2.py3-none-any.whl (34 kB)\n",
      "Requirement already satisfied: idna<4,>=2.5 in /usr/lib/python3/dist-packages (from requests->torchvision->dalle2-pytorch==1.2.1) (3.3)\n",
      "Requirement already satisfied: charset-normalizer<4,>=2 in /home/knikorov/.local/lib/python3.10/site-packages (from requests->torchvision->dalle2-pytorch==1.2.1) (3.2.0)\n",
      "Requirement already satisfied: certifi>=2017.4.17 in /usr/lib/python3/dist-packages (from requests->torchvision->dalle2-pytorch==1.2.1) (2020.6.20)\n",
      "Requirement already satisfied: urllib3<3,>=1.21.1 in /usr/lib/python3/dist-packages (from requests->torchvision->dalle2-pytorch==1.2.1) (1.26.5)\n",
      "Requirement already satisfied: mpmath>=0.19 in /home/knikorov/.local/lib/python3.10/site-packages (from sympy->torch>=1.10->dalle2-pytorch==1.2.1) (1.2.1)\n",
      "Requirement already satisfied: six>=1.5 in /usr/lib/python3/dist-packages (from python-dateutil>=2.8.1->pandas<2,>=1.1.5->embedding-reader->dalle2-pytorch==1.2.1) (1.16.0)\n",
      "Installing collected packages: wcwidth, resize-right, braceexpand, webdataset, pydantic, pyarrow, lightning-utilities, ftfy, einops, beartype, pandas, einops-exts, vector-quantize-pytorch, torchmetrics, rotary-embedding-torch, pytorch-warmup, kornia, embedding-reader, ema-pytorch, coca-pytorch, accelerate, x-clip, torch-fidelity, lpips, clip-anytorch, dalle2-pytorch\n",
      "  Attempting uninstall: wcwidth\n",
      "    Found existing installation: wcwidth 0.2.6\n",
      "    Uninstalling wcwidth-0.2.6:\n",
      "      Successfully uninstalled wcwidth-0.2.6\n",
      "  Attempting uninstall: pydantic\n",
      "    Found existing installation: pydantic 2.4.2\n",
      "    Uninstalling pydantic-2.4.2:\n",
      "      Successfully uninstalled pydantic-2.4.2\n",
      "  Attempting uninstall: pandas\n",
      "    Found existing installation: pandas 2.0.3\n",
      "    Uninstalling pandas-2.0.3:\n",
      "      Successfully uninstalled pandas-2.0.3\n",
      "Successfully installed accelerate-0.24.1 beartype-0.16.4 braceexpand-0.1.7 clip-anytorch-2.5.2 coca-pytorch-0.1.0 dalle2-pytorch-1.2.1 einops-0.7.0 einops-exts-0.0.4 ema-pytorch-0.3.1 embedding-reader-1.5.1 ftfy-6.1.3 kornia-0.7.0 lightning-utilities-0.10.0 lpips-0.1.4 pandas-1.5.3 pyarrow-12.0.1 pydantic-1.10.6 pytorch-warmup-0.1.1 resize-right-0.0.2 rotary-embedding-torch-0.3.5 torch-fidelity-0.3.0 torchmetrics-1.2.0 vector-quantize-pytorch-1.11.7 wcwidth-0.2.12 webdataset-0.2.79 x-clip-0.14.4\n",
      "Note: you may need to restart the kernel to use updated packages.\n"
     ]
    }
   ],
   "source": [
    "%pip install dalle2-pytorch==1.2.1 pydantic==1.10.6"
   ]
  },
  {
   "cell_type": "code",
   "execution_count": 2,
   "id": "87ffa82d",
   "metadata": {
    "cellId": "g17myiivljtoyc1vhu98gm"
   },
   "outputs": [
    {
     "name": "stdout",
     "output_type": "stream",
     "text": [
      "--2023-11-24 13:21:07--  https://huggingface.co/laion/DALLE2-PyTorch/resolve/main/decoder/v1.0.2/latest.pth?download=true\n",
      "Resolving huggingface.co (huggingface.co)... 2600:9000:20d7:fa00:17:b174:6d00:93a1, 2600:9000:20d7:3600:17:b174:6d00:93a1, 2600:9000:20d7:6e00:17:b174:6d00:93a1, ...\n",
      "Connecting to huggingface.co (huggingface.co)|2600:9000:20d7:fa00:17:b174:6d00:93a1|:443... connected.\n",
      "HTTP request sent, awaiting response... 302 Found\n",
      "Location: https://cdn-lfs.huggingface.co/repos/0f/b0/0fb0af7ad8b0e40b3b79fa8c5cf5e6488aac141711a60e137c094dcc0b9ca83d/5306218460f47d5f15344bf0f32919370b4994a482e2760733bd881a7efddd49?response-content-disposition=attachment%3B+filename*%3DUTF-8%27%27latest.pth%3B+filename%3D%22latest.pth%22%3B&Expires=1701080468&Policy=eyJTdGF0ZW1lbnQiOlt7IkNvbmRpdGlvbiI6eyJEYXRlTGVzc1RoYW4iOnsiQVdTOkVwb2NoVGltZSI6MTcwMTA4MDQ2OH19LCJSZXNvdXJjZSI6Imh0dHBzOi8vY2RuLWxmcy5odWdnaW5nZmFjZS5jby9yZXBvcy8wZi9iMC8wZmIwYWY3YWQ4YjBlNDBiM2I3OWZhOGM1Y2Y1ZTY0ODhhYWMxNDE3MTFhNjBlMTM3YzA5NGRjYzBiOWNhODNkLzUzMDYyMTg0NjBmNDdkNWYxNTM0NGJmMGYzMjkxOTM3MGI0OTk0YTQ4MmUyNzYwNzMzYmQ4ODFhN2VmZGRkNDk%7EcmVzcG9uc2UtY29udGVudC1kaXNwb3NpdGlvbj0qIn1dfQ__&Signature=PGqhO7hm04P4Jq2bfyqOWoPWw5%7E7QY1IRcrJMAJGmVNNbs3cHqEL6Ypa795VRypE2aznVCfmNYopHKZvxF%7Er56zCtAeRsUAaESuHizavnBqYDjOHw1l9UcmRYPTf%7EfrgDltpi2a41B9b-jqZTxTA3208K8UvC8G9p5BHtL6Er6bd8iITMgYA8ydMpeoBYA0yHjnARiCr%7EyvmPPPncSwxiQD5O%7EjfPlolCmOOe5ZNaSp3F4nHrW3mpEw3Dy7kSRlT7Kd63DxBKgSmNrbRGlNfKB4nA1J4MXLrxOG%7EGxkVqaCEW0DtByWRTYntMzYnUCS-Bh60q7%7ETeBwazI8QppZx7A__&Key-Pair-Id=KVTP0A1DKRTAX [following]\n",
      "--2023-11-24 13:21:08--  https://cdn-lfs.huggingface.co/repos/0f/b0/0fb0af7ad8b0e40b3b79fa8c5cf5e6488aac141711a60e137c094dcc0b9ca83d/5306218460f47d5f15344bf0f32919370b4994a482e2760733bd881a7efddd49?response-content-disposition=attachment%3B+filename*%3DUTF-8%27%27latest.pth%3B+filename%3D%22latest.pth%22%3B&Expires=1701080468&Policy=eyJTdGF0ZW1lbnQiOlt7IkNvbmRpdGlvbiI6eyJEYXRlTGVzc1RoYW4iOnsiQVdTOkVwb2NoVGltZSI6MTcwMTA4MDQ2OH19LCJSZXNvdXJjZSI6Imh0dHBzOi8vY2RuLWxmcy5odWdnaW5nZmFjZS5jby9yZXBvcy8wZi9iMC8wZmIwYWY3YWQ4YjBlNDBiM2I3OWZhOGM1Y2Y1ZTY0ODhhYWMxNDE3MTFhNjBlMTM3YzA5NGRjYzBiOWNhODNkLzUzMDYyMTg0NjBmNDdkNWYxNTM0NGJmMGYzMjkxOTM3MGI0OTk0YTQ4MmUyNzYwNzMzYmQ4ODFhN2VmZGRkNDk%7EcmVzcG9uc2UtY29udGVudC1kaXNwb3NpdGlvbj0qIn1dfQ__&Signature=PGqhO7hm04P4Jq2bfyqOWoPWw5%7E7QY1IRcrJMAJGmVNNbs3cHqEL6Ypa795VRypE2aznVCfmNYopHKZvxF%7Er56zCtAeRsUAaESuHizavnBqYDjOHw1l9UcmRYPTf%7EfrgDltpi2a41B9b-jqZTxTA3208K8UvC8G9p5BHtL6Er6bd8iITMgYA8ydMpeoBYA0yHjnARiCr%7EyvmPPPncSwxiQD5O%7EjfPlolCmOOe5ZNaSp3F4nHrW3mpEw3Dy7kSRlT7Kd63DxBKgSmNrbRGlNfKB4nA1J4MXLrxOG%7EGxkVqaCEW0DtByWRTYntMzYnUCS-Bh60q7%7ETeBwazI8QppZx7A__&Key-Pair-Id=KVTP0A1DKRTAX\n",
      "Resolving cdn-lfs.huggingface.co (cdn-lfs.huggingface.co)... 2600:9000:20d7:2c00:11:f807:5180:93a1, 2600:9000:20d7:6a00:11:f807:5180:93a1, 2600:9000:20d7:fc00:11:f807:5180:93a1, ...\n",
      "Connecting to cdn-lfs.huggingface.co (cdn-lfs.huggingface.co)|2600:9000:20d7:2c00:11:f807:5180:93a1|:443... connected.\n",
      "HTTP request sent, awaiting response... 200 OK\n",
      "Length: 3930800893 (3.7G) [binary/octet-stream]\n",
      "Saving to: ‘latest.pth?download=true’\n",
      "\n",
      "latest.pth?download 100%[===================>]   3.66G  22.4MB/s    in 2m 43s  \n",
      "\n",
      "2023-11-24 13:23:51 (23.0 MB/s) - ‘latest.pth?download=true’ saved [3930800893/3930800893]\n",
      "\n"
     ]
    }
   ],
   "source": [
    "!wget https://huggingface.co/laion/DALLE2-PyTorch/resolve/main/decoder/v1.0.2/latest.pth?download=true --output-document ./weights/decoder_latest.pth"
   ]
  },
  {
   "cell_type": "code",
   "execution_count": null,
   "id": "e6e2e0fa-c52b-4181-9cc5-7ce5b0433324",
   "metadata": {},
   "outputs": [],
   "source": [
    "!wget https://huggingface.co/laion/DALLE2-PyTorch/raw/main/decoder/v1.0.2/decoder_config.json --output-document ./weights/decoder_config.json"
   ]
  },
  {
   "cell_type": "code",
   "execution_count": 3,
   "id": "994e18de",
   "metadata": {
    "cellId": "a1wd5uht54qxtaa5oqujvg"
   },
   "outputs": [
    {
     "name": "stdout",
     "output_type": "stream",
     "text": [
      "--2023-11-24 13:23:51--  https://huggingface.co/laion/DALLE2-PyTorch/resolve/main/prior/best.pth?download=true\n",
      "Resolving huggingface.co (huggingface.co)... 2600:9000:2375:ca00:17:b174:6d00:93a1, 2600:9000:2375:d400:17:b174:6d00:93a1, 2600:9000:2375:d600:17:b174:6d00:93a1, ...\n",
      "Connecting to huggingface.co (huggingface.co)|2600:9000:2375:ca00:17:b174:6d00:93a1|:443... connected.\n",
      "HTTP request sent, awaiting response... 302 Found\n",
      "Location: https://cdn-lfs.huggingface.co/repos/0f/b0/0fb0af7ad8b0e40b3b79fa8c5cf5e6488aac141711a60e137c094dcc0b9ca83d/9e8da97ed73d4a10f81f0c7bc1ba0b4417c0aab32238a45eddf02fdd6c8f4c4d?response-content-disposition=attachment%3B+filename*%3DUTF-8%27%27best.pth%3B+filename%3D%22best.pth%22%3B&Expires=1701080631&Policy=eyJTdGF0ZW1lbnQiOlt7IkNvbmRpdGlvbiI6eyJEYXRlTGVzc1RoYW4iOnsiQVdTOkVwb2NoVGltZSI6MTcwMTA4MDYzMX19LCJSZXNvdXJjZSI6Imh0dHBzOi8vY2RuLWxmcy5odWdnaW5nZmFjZS5jby9yZXBvcy8wZi9iMC8wZmIwYWY3YWQ4YjBlNDBiM2I3OWZhOGM1Y2Y1ZTY0ODhhYWMxNDE3MTFhNjBlMTM3YzA5NGRjYzBiOWNhODNkLzllOGRhOTdlZDczZDRhMTBmODFmMGM3YmMxYmEwYjQ0MTdjMGFhYjMyMjM4YTQ1ZWRkZjAyZmRkNmM4ZjRjNGQ%7EcmVzcG9uc2UtY29udGVudC1kaXNwb3NpdGlvbj0qIn1dfQ__&Signature=l1VY01%7Ez-N192x58QrQ83s57IwA3xkUv3yCp33hEB0HAFYuFz2uBNGc-14PEe37Atal4a4K6b%7E65v9sGmn8xn08JAOKPp0zjxVTn6p2eHEXibj4p1T9KaTDXbeDOwPsWVbktOYrTrCgQ7BknQ05Fh-%7E9KSHCxs5KO6ai7nFLGRDpinkrh8kpluqQJPBecYGe0RsjwPcQrF4%7ElVPXOcq0aSpxNSPCChMGwUKk-7gq1cT-NApYXj4%7E9pNBcaiuVd9Qiy8VpYyk6b102y6mj%7Eh3IOyi4kFpzVnitGLlLiewac%7EMMBkm27gNzrD9yzYrYMwjWE6--2VS7%7EHE-uvIEKp8lg__&Key-Pair-Id=KVTP0A1DKRTAX [following]\n",
      "--2023-11-24 13:23:52--  https://cdn-lfs.huggingface.co/repos/0f/b0/0fb0af7ad8b0e40b3b79fa8c5cf5e6488aac141711a60e137c094dcc0b9ca83d/9e8da97ed73d4a10f81f0c7bc1ba0b4417c0aab32238a45eddf02fdd6c8f4c4d?response-content-disposition=attachment%3B+filename*%3DUTF-8%27%27best.pth%3B+filename%3D%22best.pth%22%3B&Expires=1701080631&Policy=eyJTdGF0ZW1lbnQiOlt7IkNvbmRpdGlvbiI6eyJEYXRlTGVzc1RoYW4iOnsiQVdTOkVwb2NoVGltZSI6MTcwMTA4MDYzMX19LCJSZXNvdXJjZSI6Imh0dHBzOi8vY2RuLWxmcy5odWdnaW5nZmFjZS5jby9yZXBvcy8wZi9iMC8wZmIwYWY3YWQ4YjBlNDBiM2I3OWZhOGM1Y2Y1ZTY0ODhhYWMxNDE3MTFhNjBlMTM3YzA5NGRjYzBiOWNhODNkLzllOGRhOTdlZDczZDRhMTBmODFmMGM3YmMxYmEwYjQ0MTdjMGFhYjMyMjM4YTQ1ZWRkZjAyZmRkNmM4ZjRjNGQ%7EcmVzcG9uc2UtY29udGVudC1kaXNwb3NpdGlvbj0qIn1dfQ__&Signature=l1VY01%7Ez-N192x58QrQ83s57IwA3xkUv3yCp33hEB0HAFYuFz2uBNGc-14PEe37Atal4a4K6b%7E65v9sGmn8xn08JAOKPp0zjxVTn6p2eHEXibj4p1T9KaTDXbeDOwPsWVbktOYrTrCgQ7BknQ05Fh-%7E9KSHCxs5KO6ai7nFLGRDpinkrh8kpluqQJPBecYGe0RsjwPcQrF4%7ElVPXOcq0aSpxNSPCChMGwUKk-7gq1cT-NApYXj4%7E9pNBcaiuVd9Qiy8VpYyk6b102y6mj%7Eh3IOyi4kFpzVnitGLlLiewac%7EMMBkm27gNzrD9yzYrYMwjWE6--2VS7%7EHE-uvIEKp8lg__&Key-Pair-Id=KVTP0A1DKRTAX\n",
      "Resolving cdn-lfs.huggingface.co (cdn-lfs.huggingface.co)... 2600:9000:2368:8c00:11:f807:5180:93a1, 2600:9000:2368:4c00:11:f807:5180:93a1, 2600:9000:2368:ae00:11:f807:5180:93a1, ...\n",
      "Connecting to cdn-lfs.huggingface.co (cdn-lfs.huggingface.co)|2600:9000:2368:8c00:11:f807:5180:93a1|:443... connected.\n",
      "HTTP request sent, awaiting response... 200 OK\n",
      "Length: 1339360429 (1.2G) [binary/octet-stream]\n",
      "Saving to: ‘best.pth?download=true’\n",
      "\n",
      "best.pth?download=t 100%[===================>]   1.25G  47.9MB/s    in 26s     \n",
      "\n",
      "2023-11-24 13:24:18 (49.8 MB/s) - ‘best.pth?download=true’ saved [1339360429/1339360429]\n",
      "\n"
     ]
    }
   ],
   "source": [
    "!wget https://huggingface.co/laion/DALLE2-PyTorch/resolve/main/prior/best.pth?download=true ./weights/prior_latest.pth"
   ]
  },
  {
   "cell_type": "code",
   "execution_count": null,
   "id": "8c56ebbf-edf6-436c-a796-4cf2bc01d8f9",
   "metadata": {},
   "outputs": [],
   "source": [
    "!wget https://huggingface.co/laion/DALLE2-PyTorch/raw/main/prior/prior_config.json --output-document ./weights/prior_config.json"
   ]
  },
  {
   "cell_type": "code",
   "execution_count": 4,
   "id": "c70d4c38",
   "metadata": {
    "cellId": "ptt4yfsb31dgmg844bwjfp"
   },
   "outputs": [
    {
     "name": "stderr",
     "output_type": "stream",
     "text": [
      "100%|███████████████████████████████████████| 933M/933M [00:23<00:00, 39.2MiB/s]\n"
     ]
    },
    {
     "data": {
      "application/vnd.jupyter.widget-view+json": {
       "model_id": "ced47c71d311407387bcab1757732954",
       "version_major": 2,
       "version_minor": 0
      },
      "text/plain": [
       "sampling loop time step:   0%|          | 0/64 [00:00<?, ?it/s]"
      ]
     },
     "metadata": {},
     "output_type": "display_data"
    },
    {
     "data": {
      "application/vnd.jupyter.widget-view+json": {
       "model_id": "4a48d640e44f41bcab63b50555d49ac3",
       "version_major": 2,
       "version_minor": 0
      },
      "text/plain": [
       "0it [00:00, ?it/s]"
      ]
     },
     "metadata": {},
     "output_type": "display_data"
    },
    {
     "data": {
      "application/vnd.jupyter.widget-view+json": {
       "model_id": "7b4f87b695d1485f96817193953d3f44",
       "version_major": 2,
       "version_minor": 0
      },
      "text/plain": [
       "sampling loop time step:   0%|          | 0/1000 [00:00<?, ?it/s]"
      ]
     },
     "metadata": {},
     "output_type": "display_data"
    }
   ],
   "source": [
    "import torch\n",
    "from torchvision.transforms import ToPILImage\n",
    "from dalle2_pytorch import DALLE2\n",
    "from dalle2_pytorch.train_configs import TrainDiffusionPriorConfig, TrainDecoderConfig\n",
    "\n",
    "prior_config = TrainDiffusionPriorConfig.from_json_path(\"weights/prior_config.json\").prior\n",
    "prior = prior_config.create()\n",
    "\n",
    "prior_model_state = torch.load(\"weights/prior_latest.pth\", map_location=torch.device('cpu'))\n",
    "prior.load_state_dict(prior_model_state, strict=True)\n",
    "\n",
    "decoder_config = TrainDecoderConfig.from_json_path(\"weights/decoder_config.json\").decoder\n",
    "decoder = decoder_config.create()\n",
    "\n",
    "decoder_model_state = torch.load(\"weights/decoder_latest.pth\", map_location=torch.device('cpu'))[\"model\"]\n",
    "\n",
    "for k in decoder.clip.state_dict().keys():\n",
    "    decoder_model_state[\"clip.\" + k] = decoder.clip.state_dict()[k]\n",
    "\n",
    "decoder.load_state_dict(decoder_model_state, strict=True)\n",
    "\n",
    "dalle2 = DALLE2(prior=prior, decoder=decoder)\n",
    "\n",
    "images = dalle2(\n",
    "    ['a red car'],\n",
    "    cond_scale = 2.\n",
    ").cpu()\n",
    "\n",
    "for img in images:\n",
    "    img = ToPILImage()(img)\n",
    "    img.show()"
   ]
  },
  {
   "cell_type": "code",
   "execution_count": null,
   "id": "9e6dc5c3-3cca-4a71-8ffe-fe3c8ae2590d",
   "metadata": {},
   "outputs": [],
   "source": []
  }
 ],
 "metadata": {
  "kernelspec": {
   "display_name": "Python 3 (ipykernel)",
   "language": "python",
   "name": "python3"
  },
  "language_info": {
   "codemirror_mode": {
    "name": "ipython",
    "version": 3
   },
   "file_extension": ".py",
   "mimetype": "text/x-python",
   "name": "python",
   "nbconvert_exporter": "python",
   "pygments_lexer": "ipython3",
   "version": "3.10.12"
  },
  "notebookId": "d6122d0e-2a41-47d9-acbc-0dad6f6fcf3a",
  "notebookPath": "Practice_2/main.ipynb"
 },
 "nbformat": 4,
 "nbformat_minor": 5
}
